{
 "cells": [
  {
   "cell_type": "code",
   "execution_count": 3,
   "metadata": {
    "collapsed": false
   },
   "outputs": [
   ],
   "source": [
    "def TravelingSalesmenProblem(MinPolozaj, MaxPolozaj, SteviloTock, DimProstora=2): #Določimo interval s katerega jemljemo točke, število točk in dimenzijo prostora grafa\n",
    "    import time\n",
    "\n",
    "    # USTVARIMO GRAF\n",
    "    # Začnemo meriti čas delovanja algoritma.\n",
    "    ZacetniCasGraf = time.time()\n",
    "    # V prostor \"namečemo\" točke.\n",
    "    Tocke = [random_vector(RR, DimProstora, min = MinPolozaj, max = MaxPolozaj) for i in range(SteviloTock)]\n",
    "    # Naredimo matriko, kjer stolpci in vrstice predstavljajo točke, elementi matrike so pa razdalje med njimi.\n",
    "    Matrika = Matrix([[(u-v).norm() for u in Tocke]for v in Tocke])\n",
    "    # Iz matrike ustvaruni graf.\n",
    "    Graf = Graph(Matrika)\n",
    "    # Lepše razporedimo točke po prostoru (ravnini).\n",
    "    Graf._pos = dict(enumerate(Tocke)) \n",
    "    # Konec delovanja algoritma, ustavimo čas.\n",
    "    KoncniCasGraf = time.time()\n",
    "    # Pretečeni čas algoritma za ustvarjanje grafa\n",
    "    CasGraf = KoncniCasGraf - ZacetniCasGraf\n",
    "    \n",
    "\n",
    "    # TOČNA REŠITEV PROBLEMA\n",
    "    # Začnemo meriti čas delovanja algoritma.\n",
    "    ZacetniCasTocna = time.time()\n",
    "    # Najkrakša pot v danem grafu, tj. točna rešitev problema.\n",
    "    MinDrevo = Graf.traveling_salesman_problem(use_edge_labels=True)\n",
    "    TocnaRazdalja = sum(MinDrevo.edge_labels())\n",
    "    # Ustavimo čas\n",
    "    KoncniCasTocna = time.time()\n",
    "    # Pretečeni čas delovanja celotnega algoritma za izračun najkrajše poti v danem grafu\n",
    "    CasTocna = CasGraf + (KoncniCasTocna - ZacetniCasTocna)\n",
    "    #print(\"Tocna resitev problema:\"), TocnaRazdalja\n",
    "    #print(\"Casovna zahtevnost algoritma za drevo z minimalno tezo:\"), CasTocna\n",
    "    #print(\"Najkrajsa pot prek algoritma za drevo z minimalno tezo:\"), MinDrevo.show()\n",
    "\n",
    "    # DOUBLE TREE ALGHORITM\n",
    "    # Začnemo meriti čas delovanja algoritma za izračun drevesa z minimalno težo, brez ustvarjanja grafa.\n",
    "    ZacetniCasT = time.time()\n",
    "    # Vozlišča oziroma povezave drevesa z minimalno težo v grafu.\n",
    "    VozliscaDrevesa = Graf.min_spanning_tree()\n",
    "    # Ustvarimo graf iz dobljenih vozlišč.\n",
    "    T = Graph(VozliscaDrevesa)\n",
    "    # Poskrbimo, da so vozlišča na enakih položajih kot v prvotnem grafu.\n",
    "    T._pos = Graf._pos\n",
    "    # Končamo merjenje časa algoritma, prepolovili smo zato, ker to potrebujemo tudi v Christofidisovem algoritmu in bomo tako lažje izmerili čas delovanja le tega.\n",
    "    KoncniCasT = time.time()\n",
    "    # Začnemo meriti čas novega algoritma, ki je zgolj v Double tree algoritmu\n",
    "    ZacetniCasUsmerjen = time.time()\n",
    "    # Usvtarimo usmerjen graf\n",
    "    UsmerjenGraf = DiGraph(T)\n",
    "    UsmerjenGraf._pos = Graf._pos\n",
    "    # Ustvarimo množico vozlišč, kamor bomo dodajali vozlišča v vrstnem redu, kot si sledijo v Eulerjevem sprehodu v drevesu z minimalno težo.\n",
    "    VozliscaEuler = []\n",
    "    # Poberemo samo prvo vozlišče v povezavi. (izpustimo konec povezave in njeno težo)\n",
    "    for u, _, _ in UsmerjenGraf.eulerian_circuit():\n",
    "        if u not in VozliscaEuler:\n",
    "            VozliscaEuler.append(u)\n",
    "    # Iz zaporedja vozlišč v Eulerjevem sprehodu naredimo podgraf prvotnega grafa. Vozlišča, ki sta sosednja povežemo.\n",
    "    DoubleTreeGraf = Graf.subgraph(edges=[(VozliscaEuler[i-1], VozliscaEuler[i]) for i in range(len(VozliscaEuler))])\n",
    "    # Vsota povezav na najkrajši poti pred Double tree algoritma\n",
    "    DoubleTreeRazdalja = sum(DoubleTreeGraf.edge_labels())\n",
    "    # Prenehamo meriti čas.\n",
    "    KoncniCasUsmerjen = time.time()\n",
    "    # Celoten pretečen čas izvajanja Double tree algoritma.\n",
    "    CasDT = CasGraf + (KoncniCasT - ZacetniCasT) + (KoncniCasUsmerjen - ZacetniCasUsmerjen)\n",
    "    #print(\"Priblizek za tocno resitev prek Double tree algoritma:\"), DoubleTreeRazdalja\n",
    "    #print(\"Casovna zahtevnost Double tree algoritma:\"), CasDT\n",
    "    #print(\"Najkrajsa pot prek Double tree algoritma:\"), DoubleTreeGraf.show()\n",
    "\n",
    "    # CHRISTOFIDIES ALGHORITM\n",
    "    # Na začetku usztvarimo še graf in graf T, kar je že narejeno zgoraj in to tu uporabimo, nato delamo naprej.\n",
    "    ZacetniCasPodgraf = time.time()\n",
    "    # Naredimo podrgaf iz vozlišč drevesa z liho stopnjo\n",
    "    PodgrafLiha = Graf.subgraph(u for u in T if T.degree(u) % 2 == 1)\n",
    "    # Najtežja povezava v podgrafu\n",
    "    MaxEdge = max(PodgrafLiha.edge_labels())\n",
    "    # Težo povezav v grafu damo na obratno, torej tu je najlažja v bistvu najtežja, ker matching funkcije deluje na najlažji.\n",
    "    WW = Graph([(u, v, MaxEdge-t) for u, v, t in PodgrafLiha.edges()])\n",
    "    WW._pos = {u: Graf._pos[u] for u in WW}\n",
    "    # Naredimo nov graf iz drevesa z minimalno težo, kjer ponovno uteži na povezavah postavimo na prvotno težo.\n",
    "    TT = Graph(T.edges() + [(u, v, MaxEdge-t) for u, v, t in WW.matching(use_edge_labels=True)], multiedges=True)\n",
    "    TT._pos = Graf._pos\n",
    "    # Naredimo množico vozlišč kamor bomo dodajali vozlišča v vrstnem redu kakor si sledi v Eulerjevem sprehodu.\n",
    "    Vozlisca = []\n",
    "    for u, _, _ in TT.eulerian_circuit():\n",
    "        if u not in Vozlisca:\n",
    "            Vozlisca.append(u)\n",
    "    # Iz zaporedja vozlišč v Eulerjevem sprehodu naredimo podrgaf prvotnega grafa.\n",
    "    ChristofidiesGraf = Graf.subgraph(edges=[(Vozlisca[i-1], Vozlisca[i]) for i in range(len(Vozlisca))])\n",
    "    # Razdalja najkrajše poti v poti dobljeni prek Christofidiesovega algoritma.\n",
    "    ChristofidiesRazdalja = sum(ChristofidiesGraf.edge_labels())\n",
    "    # Algoritem je zaključen.\n",
    "    KoncniCasPodgraf = time.time()\n",
    "    # Celotni čas delovanja Christofidisovega algoritma.\n",
    "    CasChristo = CasGraf + (KoncniCasT - ZacetniCasT) + (KoncniCasPodgraf - ZacetniCasPodgraf)\n",
    "    #print(\"Priblizek za tocno resitev prek Christofidiesovega algoritma:\"), ChristofidiesRazdalja\n",
    "    #print(\"Casovna zahtevnost Christofidiesovega algoritma:\"), CasChristo\n",
    "    #print(\"Najkrajsa pot pred Christofidiesovega algoritma:\"), ChristofidiesGraf.show()\n",
    "\n",
    "    DoubleTreeMistake = abs(TocnaRazdalja - DoubleTreeRazdalja)\n",
    "    ChristofidiesMistake = abs(TocnaRazdalja - ChristofidiesRazdalja)\n",
    "    return [TocnaRazdalja, DoubleTreeMistake, ChristofidiesMistake, CasTocna, CasDT, CasChristo]\n",
    "    \n",
    "    #print(\"Napaka Double tree algoritma:\"), DoubleTreeMistake\n",
    "    #print(\"Napaka Christofidiesovega algoritma:\"), ChristofidiesMistake\n",
    "    #print(\"Casovna zahtevnost Double tree algoritma:\"), CasDT\n",
    "    #print(\"Casovna zahtevnost Christofidiesovega algoritma:\"),CasChristo\n",
    "\n",
    "    #NapakeDT.append(DoubleTreeMistake)\n",
    "    #NapakeChristo.append(ChristofidiesMistake)\n",
    "    #CasiDT.append(CasDT)\n",
    "    #CasiChristo.append(CasChristo)\n",
    "    #CasiTocna.append(CasTocna)\n",
    "\n",
    "#print(\"Napake Double tree algoritma:\"), NapakeDT\n",
    "#print(\"Napake Christofidiesovega algoritma:\"), NapakeChristo\n",
    "#print(\"Casovne zahtevnosti Double tree algoritma:\"), CasiDT\n",
    "#print(\"Casovne zahtevnosti Christofidiesovega algoritma:\"), CasiChristo\n",
    "#print(\"Casovne zahtevnosti algoritma za drevo z minimalno tezo:\"), CasiTocna\n"
   ]
  },
  {
   "cell_type": "code",
   "execution_count": 4,
   "metadata": {
    "collapsed": false
   },
   "outputs": [
   ],
   "source": [
    "def Test(MinPolozaj, MaxPolozaj, SteviloTock, DimProstora=2):\n",
    "    for i in range(2):\n",
    "        [a, b, c, d]= TravelingSalesmenProblem(MinPolozaj, MaxPolozaj, SteviloTock, DimProstora=2)\n",
    "    print(a)"
   ]
  },
  {
   "cell_type": "code",
   "execution_count": 5,
   "metadata": {
    "collapsed": false
   },
   "outputs": [
   ],
   "source": [
    "import csv\n",
    "\n",
    "def zapisi_csv_Test(MinPolozaj, MaxPolozaj, SteviloTock, st_testov, DimProstora=3):\n",
    "\n",
    "    koc = []\n",
    "    for i in range(st_testov):\n",
    "        try:\n",
    "            rez = TravelingSalesmenProblem(MinPolozaj, MaxPolozaj, SteviloTock, DimProstora=3)\n",
    "        \n",
    "        except : pass\n",
    "        e = rez[0]\n",
    "        f = rez[1]\n",
    "        g = rez[2]\n",
    "        h = rez[3]\n",
    "        j = rez[4]\n",
    "        k = rez[5]\n",
    "        koc.append([e,f,g,h,j,k])\n",
    "    with open(\"out30dim3.csv\", \"w\") as x:\n",
    "        writer = csv.writer(x)\n",
    "        writer.writerows(koc)\n",
    "        \n",
    "\n",
    "\n",
    "\n",
    "\n",
    "\n"
   ]
  },
  {
   "cell_type": "code",
   "execution_count": 6,
   "metadata": {
    "collapsed": false,
    "scrolled": true
   },
   "outputs": [
   ],
   "source": [
    "zapisi_csv_Test(-100, 100, 30, 100)"
   ]
  },
  {
   "cell_type": "code",
   "execution_count": 0,
   "metadata": {
    "collapsed": false
   },
   "outputs": [
   ],
   "source": [
   ]
  },
  {
   "cell_type": "code",
   "execution_count": 0,
   "metadata": {
    "collapsed": false
   },
   "outputs": [
   ],
   "source": [
   ]
  }
 ],
 "metadata": {
  "kernelspec": {
   "display_name": "SageMath (stable)",
   "language": "sagemath",
   "metadata": {
    "cocalc": {
     "description": "Open-source mathematical software system",
     "priority": 10,
     "url": "https://www.sagemath.org/"
    }
   },
   "name": "sagemath"
  },
  "language_info": {
   "codemirror_mode": {
    "name": "ipython",
    "version": 2
   },
   "file_extension": ".py",
   "mimetype": "text/x-python",
   "name": "python",
   "nbconvert_exporter": "python",
   "pygments_lexer": "ipython2",
   "version": "2.7.15"
  }
 },
 "nbformat": 4,
 "nbformat_minor": 0
}